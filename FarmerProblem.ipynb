{
  "nbformat": 4,
  "nbformat_minor": 0,
  "metadata": {
    "colab": {
      "name": "FarmerProblem.ipynb",
      "provenance": [],
      "authorship_tag": "ABX9TyMDfppYZrtv9sHfyHd6hotD",
      "include_colab_link": true
    },
    "kernelspec": {
      "name": "python3",
      "display_name": "Python 3"
    },
    "language_info": {
      "name": "python"
    }
  },
  "cells": [
    {
      "cell_type": "markdown",
      "metadata": {
        "id": "view-in-github",
        "colab_type": "text"
      },
      "source": [
        "<a href=\"https://colab.research.google.com/github/YaminiKothapally/AI/blob/main/FarmerProblem.ipynb\" target=\"_parent\"><img src=\"https://colab.research.google.com/assets/colab-badge.svg\" alt=\"Open In Colab\"/></a>"
      ]
    },
    {
      "cell_type": "code",
      "metadata": {
        "colab": {
          "base_uri": "https://localhost:8080/"
        },
        "id": "eZFlogDotnTD",
        "outputId": "8e355ed8-7e8b-4a40-fed0-7d8a53780d89"
      },
      "source": [
        "from scipy.optimize import linprog\n",
        "objfun=[-50,-120]\n",
        "A=[[7000,2000],[10,30],[1,1]]\n",
        "b=[700000,\n",
        "   1200,\n",
        "   110]\n",
        "boundery=[(0,float('inf')),(0,float('inf'))]\n",
        "ans=linprog(c=objfun,A_ub=A,b_ub=b,A_eq=None,b_eq=None,bounds=boundery,method=\"simplex\")\n",
        "print(round(ans.x[0]) ,'Hectares for wheat')\n",
        "print(round(ans.x[1]),'Heactares for barley')\n",
        "print('That is Farmer can make a profit of ',(round(ans.x[0])*50)+(round(ans.x[1])*120))"
      ],
      "execution_count": 3,
      "outputs": [
        {
          "output_type": "stream",
          "text": [
            "98 Hectares for wheat\n",
            "7 Heactares for barley\n",
            "That is Farmer can make a profit of  5740\n"
          ],
          "name": "stdout"
        }
      ]
    }
  ]
}