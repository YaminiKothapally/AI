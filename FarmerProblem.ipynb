{
  "nbformat": 4,
  "nbformat_minor": 0,
  "metadata": {
    "colab": {
      "name": "FarmerProblem.ipynb",
      "provenance": [],
      "authorship_tag": "ABX9TyO6Weks9zCjqQtHcxNStl7q",
      "include_colab_link": true
    },
    "kernelspec": {
      "name": "python3",
      "display_name": "Python 3"
    },
    "language_info": {
      "name": "python"
    }
  },
  "cells": [
    {
      "cell_type": "markdown",
      "metadata": {
        "id": "view-in-github",
        "colab_type": "text"
      },
      "source": [
        "<a href=\"https://colab.research.google.com/github/YaminiKothapally/AI/blob/main/FarmerProblem.ipynb\" target=\"_parent\"><img src=\"https://colab.research.google.com/assets/colab-badge.svg\" alt=\"Open In Colab\"/></a>"
      ]
    },
    {
      "cell_type": "code",
      "metadata": {
        "colab": {
          "base_uri": "https://localhost:8080/"
        },
        "id": "eZFlogDotnTD",
        "outputId": "625a03b4-5050-42fb-9a90-eafdd7de81e5"
      },
      "source": [
        "#Desicion Variables\n",
        "#W-->area for wheat\n",
        "#B-->area for barley\n",
        "#profit max(z)=50W+120B -->Objective function\n",
        "#7000W+2000B<=700000--->Constarints\n",
        "#10W+30B<=1200\n",
        "#W+B<=110\n",
        "#W,B>=0-->boundery\n",
        "from scipy.optimize import linprog\n",
        "objfun=[-50,-120]\n",
        "A=[[7000,2000],[10,30],[1,1]]\n",
        "b=[700000,\n",
        "   1200,\n",
        "   110]\n",
        "boundery=[(0,float('inf')),(0,float('inf'))]\n",
        "ans=linprog(c=objfun,A_ub=A,b_ub=b,A_eq=None,b_eq=None,bounds=boundery,method=\"simplex\")\n",
        "print(round(ans.x[0]) ,'Hectares for wheat')\n",
        "print(round(ans.x[1]),'Heactares for barley')\n",
        "print('That is Farmer can make a profit of ',(round(ans.x[0])*50)+(round(ans.x[1])*120))"
      ],
      "execution_count": 1,
      "outputs": [
        {
          "output_type": "stream",
          "text": [
            "98 Hectares for wheat\n",
            "7 Heactares for barley\n",
            "That is Farmer can make a profit of  5740\n"
          ],
          "name": "stdout"
        }
      ]
    }
  ]
}