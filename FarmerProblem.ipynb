{
  "nbformat": 4,
  "nbformat_minor": 0,
  "metadata": {
    "colab": {
      "name": "FarmerProblem.ipynb",
      "provenance": [],
      "authorship_tag": "ABX9TyMKPvoC6KI6vcTfHxdpkjsX",
      "include_colab_link": true
    },
    "kernelspec": {
      "name": "python3",
      "display_name": "Python 3"
    },
    "language_info": {
      "name": "python"
    }
  },
  "cells": [
    {
      "cell_type": "markdown",
      "metadata": {
        "id": "view-in-github",
        "colab_type": "text"
      },
      "source": [
        "<a href=\"https://colab.research.google.com/github/YaminiKothapally/AI/blob/main/FarmerProblem.ipynb\" target=\"_parent\"><img src=\"https://colab.research.google.com/assets/colab-badge.svg\" alt=\"Open In Colab\"/></a>"
      ]
    },
    {
      "cell_type": "code",
      "metadata": {
        "colab": {
          "base_uri": "https://localhost:8080/"
        },
        "id": "eZFlogDotnTD",
        "outputId": "c3031a3d-8188-4c06-a5e0-7477a5b2fcd1"
      },
      "source": [
        "from scipy.optimize import linprog\n",
        "objfun=[-50,-120]\n",
        "A=[[7000,2000],[10,30],[1,1]]\n",
        "b=[700000,\n",
        "   1200,\n",
        "   110]\n",
        "boundery=[(0,float('inf')),(0,float('inf'))]\n",
        "ans=linprog(c=objfun,A_ub=A,b_ub=b,A_eq=None,b_eq=None,bounds=boundery,method=\"simplex\")\n",
        "print(round(ans.x[0]) ,'Hectares for wheat')\n",
        "print(round(ans.x[1]),'Heactares for barley')"
      ],
      "execution_count": 26,
      "outputs": [
        {
          "output_type": "stream",
          "text": [
            "98 Hectares for wheat\n",
            "7 Heactares for barley\n"
          ],
          "name": "stdout"
        }
      ]
    }
  ]
}