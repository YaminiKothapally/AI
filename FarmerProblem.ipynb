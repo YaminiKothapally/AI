{
  "nbformat": 4,
  "nbformat_minor": 0,
  "metadata": {
    "colab": {
      "name": "FarmerProblem.ipynb",
      "provenance": [],
      "authorship_tag": "ABX9TyOZbopdhRApipnrL+0LsUom",
      "include_colab_link": true
    },
    "kernelspec": {
      "name": "python3",
      "display_name": "Python 3"
    },
    "language_info": {
      "name": "python"
    }
  },
  "cells": [
    {
      "cell_type": "markdown",
      "metadata": {
        "id": "view-in-github",
        "colab_type": "text"
      },
      "source": [
        "<a href=\"https://colab.research.google.com/github/YaminiKothapally/AI/blob/main/FarmerProblem.ipynb\" target=\"_parent\"><img src=\"https://colab.research.google.com/assets/colab-badge.svg\" alt=\"Open In Colab\"/></a>"
      ]
    },
    {
      "cell_type": "code",
      "metadata": {
        "colab": {
          "base_uri": "https://localhost:8080/"
        },
        "id": "eZFlogDotnTD",
        "outputId": "494f9ef6-e105-40a0-dfdc-2e44bbe78bc4"
      },
      "source": [
        "from scipy.optimize import linprog\n",
        "objfun=[-50,-120]\n",
        "A=[[7000,2000],[10,30],[1,1]]\n",
        "b=[700000,\n",
        "   1200,\n",
        "   110]\n",
        "boundery=[(0,float('inf')),(0,float('inf'))]\n",
        "ans=linprog(c=objfun,A_ub=A,b_ub=b,A_eq=None,b_eq=None,bounds=boundery,method=\"simplex\")\n",
        "print(round(ans.x[0]))\n",
        "print(round(ans.x[1]))"
      ],
      "execution_count": 25,
      "outputs": [
        {
          "output_type": "stream",
          "text": [
            "98\n",
            "7\n"
          ],
          "name": "stdout"
        }
      ]
    }
  ]
}